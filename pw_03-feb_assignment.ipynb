{
 "cells": [
  {
   "cell_type": "code",
   "execution_count": null,
   "id": "7b723a77-4a69-4004-b031-309fb81620f0",
   "metadata": {},
   "outputs": [],
   "source": [
    "#Ans1\n",
    "'def' keyword is used to create a function in python\n",
    "Syntax :- def function_name():\n",
    "    "
   ]
  },
  {
   "cell_type": "code",
   "execution_count": 5,
   "id": "c18c1c55-9274-493a-bc16-aeedb193ed53",
   "metadata": {},
   "outputs": [
    {
     "data": {
      "text/plain": [
       "[1, 3, 5, 7, 9, 11, 13, 15, 17, 19, 21, 23]"
      ]
     },
     "execution_count": 5,
     "metadata": {},
     "output_type": "execute_result"
    }
   ],
   "source": [
    "def odd():\n",
    "    l1 = []\n",
    "    for i in range(1,25):\n",
    "        if(i%2!=0):\n",
    "            l1.append(i)\n",
    "    return l1\n",
    "odd()"
   ]
  },
  {
   "cell_type": "code",
   "execution_count": null,
   "id": "d7fdfa85-36b5-47c3-bad6-4dec80b705fb",
   "metadata": {},
   "outputs": [],
   "source": [
    "#Ans2\n",
    "*args is used when we dont know how many numbers of arguments our function is going to receieve when called.\n",
    "**kwargs is used nto pass n number of key:value pairs to the function as an arguments."
   ]
  },
  {
   "cell_type": "code",
   "execution_count": 1,
   "id": "089d8f46-ba91-4509-ae3f-0975970b9746",
   "metadata": {},
   "outputs": [
    {
     "name": "stdout",
     "output_type": "stream",
     "text": [
      "30\n",
      "501\n",
      "60\n",
      "88\n"
     ]
    }
   ],
   "source": [
    "#ex:- *args\n",
    "def args_ex(*args):\n",
    "    for i in args:\n",
    "        print(i)\n",
    "args_ex(30,501,60,88)"
   ]
  },
  {
   "cell_type": "code",
   "execution_count": 6,
   "id": "24192741-c3c6-4d2c-a5e3-a7c61d6d3605",
   "metadata": {},
   "outputs": [
    {
     "name": "stdout",
     "output_type": "stream",
     "text": [
      "apple : fruit\n",
      "tomato : vegetable\n"
     ]
    }
   ],
   "source": [
    "#ex:- **kwargs\n",
    "def kwargs_ex(**kwargs):\n",
    "    for key,value in kwargs.items():\n",
    "        print(key,\":\",value)\n",
    "kwargs_ex(apple=\"fruit\",tomato=\"vegetable\")"
   ]
  },
  {
   "cell_type": "code",
   "execution_count": null,
   "id": "b69033f5-88ac-48be-a8f2-4308d1aa2f84",
   "metadata": {},
   "outputs": [],
   "source": [
    "#Ans3\n",
    "An iterator is an object that contains a countable number of values.\n",
    "An iterator is an object that can be iterated upon, meaning that you can traverse through all the values.\n",
    "The iterator object is initialized using the iter() method. It uses the next() method for iteration"
   ]
  },
  {
   "cell_type": "code",
   "execution_count": 13,
   "id": "770a0c3a-5635-4d97-9e23-9f075c3adfec",
   "metadata": {},
   "outputs": [
    {
     "data": {
      "text/plain": [
       "2"
      ]
     },
     "execution_count": 13,
     "metadata": {},
     "output_type": "execute_result"
    }
   ],
   "source": [
    "#ex:-\n",
    "l1 = [2, 4, 6, 8, 10, 12, 14,16, 18, 20]\n",
    "myit = iter(l1)\n",
    "next(myit)"
   ]
  },
  {
   "cell_type": "code",
   "execution_count": null,
   "id": "1c284dbc-dc2d-4d37-a36b-ee6666635b08",
   "metadata": {},
   "outputs": [],
   "source": [
    "#Ans4\n",
    "In Python, a generator is a function that returns an iterator that produces a sequence of values when iterated over.\n",
    "\n",
    "Generators are useful when we want to produce a large sequence of values, but we dont want to store all of them in memory at once.\n",
    "yield keyword is used to produce a value from the generator"
   ]
  },
  {
   "cell_type": "code",
   "execution_count": 16,
   "id": "c9d61f68-133f-4c1c-a236-367fcfd38400",
   "metadata": {},
   "outputs": [],
   "source": [
    "#ex:-\n",
    "def gen_ex(arg):\n",
    "    for i in range(1,51):\n",
    "        yield i**2\n",
    "square_2= gen_ex(2)\n",
    "        "
   ]
  },
  {
   "cell_type": "code",
   "execution_count": 20,
   "id": "9e03690f-c063-4b4f-9b2b-2a6c2c146ed9",
   "metadata": {},
   "outputs": [
    {
     "data": {
      "text/plain": [
       "16"
      ]
     },
     "execution_count": 20,
     "metadata": {},
     "output_type": "execute_result"
    }
   ],
   "source": [
    "next(square_2)"
   ]
  },
  {
   "cell_type": "code",
   "execution_count": 25,
   "id": "144cb961-f59a-4659-92c4-52933d33dfa5",
   "metadata": {},
   "outputs": [
    {
     "name": "stdout",
     "output_type": "stream",
     "text": [
      "2\n",
      "3\n",
      "5\n",
      "7\n",
      "11\n",
      "13\n",
      "17\n",
      "19\n",
      "23\n",
      "29\n",
      "31\n",
      "37\n",
      "41\n",
      "43\n",
      "47\n",
      "53\n",
      "59\n",
      "61\n",
      "67\n",
      "71\n",
      "73\n"
     ]
    }
   ],
   "source": [
    "#Ans5\n",
    "def gen_prime():\n",
    "    \n",
    "    for i in range(2,1001):\n",
    "        \n",
    "        for j in range(2,1001):\n",
    "            \n",
    "            if i%j == 0:\n",
    "                \n",
    "                break\n",
    "        if i == j:\n",
    "            \n",
    "            yield i\n",
    "        \n",
    "prime = gen_prime()\n",
    "for i in range(0,21):\n",
    "    print(next(prime))\n",
    "\n",
    "    "
   ]
  },
  {
   "cell_type": "code",
   "execution_count": 4,
   "id": "a8c83cc3-2117-4bcb-9643-a74107a3184b",
   "metadata": {},
   "outputs": [
    {
     "name": "stdout",
     "output_type": "stream",
     "text": [
      "0\n",
      "1\n",
      "1\n",
      "2\n",
      "3\n",
      "5\n",
      "8\n",
      "13\n",
      "21\n",
      "34\n",
      "55\n"
     ]
    }
   ],
   "source": [
    "#Ans6\n",
    "a,b = 0,1\n",
    "i=0\n",
    "while i<=10:\n",
    "    print(a)\n",
    "    c=a+b\n",
    "    a=b\n",
    "    b=c\n",
    "    i+=1"
   ]
  },
  {
   "cell_type": "code",
   "execution_count": 8,
   "id": "d8509e97-b511-455f-a077-fa60080614b4",
   "metadata": {},
   "outputs": [
    {
     "name": "stdout",
     "output_type": "stream",
     "text": [
      "['p', 'w', 's', 'k', 'i', 'l', 'l', 's']\n"
     ]
    }
   ],
   "source": [
    "#Ans7\n",
    "l1 = []\n",
    "string = \"pwskills\"\n",
    "l1 = [i for i in string]\n",
    "print(l1)"
   ]
  },
  {
   "cell_type": "code",
   "execution_count": 15,
   "id": "89cbee07-ad6e-49cd-92e8-0ea4ebbb392f",
   "metadata": {},
   "outputs": [
    {
     "name": "stdin",
     "output_type": "stream",
     "text": [
      "Enter number: 655\n"
     ]
    },
    {
     "name": "stdout",
     "output_type": "stream",
     "text": [
      "The number isn't a palindrome!\n"
     ]
    }
   ],
   "source": [
    "#Ans8\n",
    "n=int(input(\"Enter number:\"))\n",
    "temp=n\n",
    "rev=0\n",
    "while(n>0):\n",
    "    dig=n%10\n",
    "    rev=rev*10+dig\n",
    "    n=n//10\n",
    "if(temp==rev):\n",
    "    print(\"The number is a palindrome!\")\n",
    "else:\n",
    "    print(\"The number isn't a palindrome!\")\n"
   ]
  },
  {
   "cell_type": "code",
   "execution_count": 16,
   "id": "4fe50ac6-89d0-4083-9b86-c8ee87efd508",
   "metadata": {},
   "outputs": [
    {
     "name": "stdout",
     "output_type": "stream",
     "text": [
      "[1, 3, 5, 7, 9, 11, 13, 15, 17, 19, 21, 23, 25, 27, 29, 31, 33, 35, 37, 39, 41, 43, 45, 47, 49, 51, 53, 55, 57, 59, 61, 63, 65, 67, 69, 71, 73, 75, 77, 79, 81, 83, 85, 87, 89, 91, 93, 95, 97, 99]\n"
     ]
    }
   ],
   "source": [
    "#Ans9\n",
    "l1=[]\n",
    "l1 = [i for i in range(0,101) if i%2!=0 ]\n",
    "print(l1)"
   ]
  },
  {
   "cell_type": "code",
   "execution_count": null,
   "id": "98a07cc6-dfb1-4989-9851-ba203d65cb5b",
   "metadata": {},
   "outputs": [],
   "source": []
  }
 ],
 "metadata": {
  "kernelspec": {
   "display_name": "Python 3 (ipykernel)",
   "language": "python",
   "name": "python3"
  },
  "language_info": {
   "codemirror_mode": {
    "name": "ipython",
    "version": 3
   },
   "file_extension": ".py",
   "mimetype": "text/x-python",
   "name": "python",
   "nbconvert_exporter": "python",
   "pygments_lexer": "ipython3",
   "version": "3.10.8"
  }
 },
 "nbformat": 4,
 "nbformat_minor": 5
}
