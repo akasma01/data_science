{
 "cells": [
  {
   "cell_type": "code",
   "execution_count": 4,
   "id": "d12d0346-2a28-4510-b7b3-c2ab3979ae99",
   "metadata": {},
   "outputs": [
    {
     "name": "stdin",
     "output_type": "stream",
     "text": [
      "please enter your percentage 65\n"
     ]
    },
    {
     "name": "stdout",
     "output_type": "stream",
     "text": [
      "Grade c\n"
     ]
    }
   ],
   "source": [
    "#Ans1\n",
    "per = int(input(\"please enter your percentage\"))\n",
    "if(per>90):\n",
    "    print(\"Grade A\")\n",
    "elif(per>80 and per<=90):\n",
    "    print(\"Grade B\")\n",
    "elif(per>=60 and per<=80):\n",
    "    print(\"Grade c\")\n",
    "elif(per<60):\n",
    "    print(\"Grade d\")\n",
    "else:\n",
    "    print(\"please enter valid percentage\")\n"
   ]
  },
  {
   "cell_type": "code",
   "execution_count": 2,
   "id": "38697bf5-45fd-413e-8a90-a599d2107853",
   "metadata": {},
   "outputs": [
    {
     "name": "stdin",
     "output_type": "stream",
     "text": [
      "please enter price of your bike 120000\n"
     ]
    },
    {
     "name": "stdout",
     "output_type": "stream",
     "text": [
      "You have to pay 18000.0 Rs.\n"
     ]
    }
   ],
   "source": [
    "#Ans2\n",
    "price = int(input(\"please enter price of your bike\"))\n",
    "if(price>100000):\n",
    "    tax = (price*15)/100\n",
    "    print(\"You have to pay\",tax,\"Rs.\")\n",
    "elif(price>50000 and price<=100000):\n",
    "    tax = (price*10)/100\n",
    "    print(\"You have to pay\",tax,\"Rs.\")\n",
    "elif(price<=50000):\n",
    "    tax = (price*5)/100\n",
    "    print(\"You have to pay\",tax,\"Rs.\")\n",
    "else:\n",
    "    print(\"please enter valid number\")"
   ]
  },
  {
   "cell_type": "code",
   "execution_count": 8,
   "id": "31907f00-1fed-4943-bd1c-0de08c675e5d",
   "metadata": {},
   "outputs": [
    {
     "name": "stdin",
     "output_type": "stream",
     "text": [
      "please enter a city name to know its famous monument name DELHI\n"
     ]
    },
    {
     "name": "stdout",
     "output_type": "stream",
     "text": [
      "Red Fort\n"
     ]
    }
   ],
   "source": [
    "#Ans3\n",
    "city = input(\"please enter a city name to know its famous monument name\").lower()\n",
    "if(city==\"delhi\"):\n",
    "    print(\"Red Fort\")\n",
    "elif(city==\"agra\"):\n",
    "    print(\"Taj Mahal\")\n",
    "elif(city==\"jaipur\"):\n",
    "    print(\"Jal Mahal\")\n",
    "else:\n",
    "    print(\"please enter valid city\")\n"
   ]
  },
  {
   "cell_type": "code",
   "execution_count": 14,
   "id": "4cf921f7-fb06-48f0-ac6e-0fe1591153fa",
   "metadata": {},
   "outputs": [
    {
     "name": "stdin",
     "output_type": "stream",
     "text": [
      "please enter any number 30\n"
     ]
    },
    {
     "name": "stdout",
     "output_type": "stream",
     "text": [
      "1\n"
     ]
    }
   ],
   "source": [
    "#Ans4\n",
    "num = int(input(\"please enter any number\"))\n",
    "count=0\n",
    "while True:\n",
    "    num=num/3\n",
    "    count+=1\n",
    "    if num<=10:\n",
    "        break\n",
    "print(count)"
   ]
  },
  {
   "cell_type": "code",
   "execution_count": null,
   "id": "9afc6931-ac1e-4999-8920-5985c0d24e0a",
   "metadata": {},
   "outputs": [],
   "source": [
    "#Ans5\n",
    "\n",
    "Python while loop is used to run a block code until a certain condition is met.\n",
    "\n",
    "The syntax of while loop is:\n",
    "    while condition:\n",
    "    # body of while loop\n",
    "Here,\n",
    "\n",
    "A while loop evaluates the condition\n",
    "If the condition evaluates to True, the code inside the while loop is executed.\n",
    "condition is evaluated again.\n",
    "This process continues until the condition is False.\n",
    "When condition evaluates to False, the loop stops.\n",
    "\n",
    "Ex:\n",
    "    # program to calculate the sum of numbers\n",
    "# until the user enters zero\n",
    "\n",
    "total = 0\n",
    "\n",
    "number = int(input('Enter a number: '))\n",
    "\n",
    "# add numbers until number is zero\n",
    "while number != 0:\n",
    "    total += number    # total = total + number\n",
    "    \n",
    "    # take integer input again\n",
    "    number = int(input('Enter a number: '))\n",
    "    \n",
    "\n",
    "print('total =', total)"
   ]
  },
  {
   "cell_type": "code",
   "execution_count": 15,
   "id": "a4c49ecf-9a35-43df-a21e-07e79360d75d",
   "metadata": {},
   "outputs": [
    {
     "name": "stdout",
     "output_type": "stream",
     "text": [
      "* \n",
      "* * \n",
      "* * * \n",
      "* * * * \n",
      "* * * * * \n"
     ]
    }
   ],
   "source": [
    "#Ans6\n",
    "#pattern1\n",
    "rows = 5\n",
    "# outer loop\n",
    "for i in range(1, rows + 1):\n",
    "    # inner loop\n",
    "    for j in range(1, i + 1):\n",
    "        print(\"*\", end=\" \")\n",
    "    print('')"
   ]
  },
  {
   "cell_type": "code",
   "execution_count": 16,
   "id": "c3d65984-9b3b-4dc4-afaf-1582d29e1365",
   "metadata": {},
   "outputs": [
    {
     "name": "stdout",
     "output_type": "stream",
     "text": [
      "***\n",
      "***\n",
      "***\n",
      "***\n",
      "***\n"
     ]
    }
   ],
   "source": [
    "#pattern2\n",
    "# 5 rows\n",
    "for name in range(5):\n",
    "    # 3 column\n",
    "    for j in range(3):\n",
    "        print('*', end='')\n",
    "    print()"
   ]
  },
  {
   "cell_type": "code",
   "execution_count": 18,
   "id": "91f87d75-cd7c-485c-9df2-18ad01efd5a9",
   "metadata": {},
   "outputs": [
    {
     "name": "stdout",
     "output_type": "stream",
     "text": [
      "* * * * * \n",
      "* * * * \n",
      "* * * \n",
      "* * \n",
      "* \n"
     ]
    }
   ],
   "source": [
    "#pattern3\n",
    "n = 5\n",
    "\n",
    "i = 1\n",
    "while i <= n :\n",
    "    j = n\n",
    "    while j >= i:\n",
    "        print(\"*\", end = \" \")\n",
    "        j -= 1\n",
    "    print()\n",
    "    i += 1"
   ]
  },
  {
   "cell_type": "code",
   "execution_count": 21,
   "id": "a5549b6e-d548-44ce-bada-47e5f8b342a7",
   "metadata": {},
   "outputs": [
    {
     "name": "stdout",
     "output_type": "stream",
     "text": [
      "10\n",
      "9\n",
      "8\n",
      "7\n",
      "6\n",
      "5\n",
      "4\n",
      "3\n",
      "2\n",
      "1\n"
     ]
    }
   ],
   "source": [
    "#Ans7\n",
    "n = 10\n",
    "while(n>=1):\n",
    "    print(n)\n",
    "    n-=1"
   ]
  },
  {
   "cell_type": "code",
   "execution_count": 22,
   "id": "56e7e28c-5699-47f7-80e0-832ade2fb5dc",
   "metadata": {},
   "outputs": [
    {
     "name": "stdout",
     "output_type": "stream",
     "text": [
      "10\n",
      "9\n",
      "8\n",
      "7\n",
      "6\n",
      "5\n",
      "4\n",
      "3\n",
      "2\n",
      "1\n"
     ]
    }
   ],
   "source": [
    "#Ans8\n",
    "for i in range(10,0,-1):\n",
    "    print(i)"
   ]
  },
  {
   "cell_type": "code",
   "execution_count": null,
   "id": "3b1ac9ad-4f1f-4671-b053-4eda4bbdcc7c",
   "metadata": {},
   "outputs": [],
   "source": []
  }
 ],
 "metadata": {
  "kernelspec": {
   "display_name": "Python 3 (ipykernel)",
   "language": "python",
   "name": "python3"
  },
  "language_info": {
   "codemirror_mode": {
    "name": "ipython",
    "version": 3
   },
   "file_extension": ".py",
   "mimetype": "text/x-python",
   "name": "python",
   "nbconvert_exporter": "python",
   "pygments_lexer": "ipython3",
   "version": "3.10.8"
  }
 },
 "nbformat": 4,
 "nbformat_minor": 5
}
