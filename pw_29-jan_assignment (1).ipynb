{
 "cells": [
  {
   "cell_type": "code",
   "execution_count": null,
   "id": "23a1caa1-7c55-4618-a215-9a719c7a50e4",
   "metadata": {},
   "outputs": [],
   "source": [
    "#Ans1\n",
    "Guido van Rossum"
   ]
  },
  {
   "cell_type": "code",
   "execution_count": null,
   "id": "c92dd7f9-52b6-42e9-96c9-b15676555451",
   "metadata": {},
   "outputs": [],
   "source": [
    "#Ans2\n",
    "Python is an interpreted programming language, supporting object-oriented, structured, and functional programming."
   ]
  },
  {
   "cell_type": "code",
   "execution_count": null,
   "id": "af6256b5-a5a5-4714-a024-b7abb8e4f8db",
   "metadata": {},
   "outputs": [],
   "source": [
    "#Ans3\n",
    "Yes, Python is a case-sensitive language"
   ]
  },
  {
   "cell_type": "code",
   "execution_count": null,
   "id": "5e5dcae4-ea75-4a8d-9664-7f8f5d218bb7",
   "metadata": {},
   "outputs": [],
   "source": [
    "#Ans4\n",
    "The extensions for Python files are - . py"
   ]
  },
  {
   "cell_type": "code",
   "execution_count": null,
   "id": "6ba4d144-75c0-496b-b8c2-68b2ab8dd0fd",
   "metadata": {},
   "outputs": [],
   "source": [
    "#Ans5\n",
    "Python is an interpreted language"
   ]
  },
  {
   "cell_type": "code",
   "execution_count": null,
   "id": "6c256cb0-51dd-467d-9fb4-4151581aa539",
   "metadata": {},
   "outputs": [],
   "source": [
    "#Ans6\n",
    "Indentation is used to define a block of code in python"
   ]
  },
  {
   "cell_type": "code",
   "execution_count": null,
   "id": "73e48f7c-e7b5-4062-8a69-a61b0ac031e8",
   "metadata": {},
   "outputs": [],
   "source": [
    "#Ans7\n",
    "In Python, the # character is used to start a comment. The comment continues after the # until the end of the line."
   ]
  },
  {
   "cell_type": "code",
   "execution_count": null,
   "id": "26bdd018-bd51-496c-b556-0ad4c3002aa7",
   "metadata": {},
   "outputs": [],
   "source": [
    "#Ans8\n",
    "import sys\n",
    "sys.version()"
   ]
  },
  {
   "cell_type": "code",
   "execution_count": null,
   "id": "c22439ca-b87d-42c1-a323-5fde26fae066",
   "metadata": {},
   "outputs": [],
   "source": [
    "#Ans9\n",
    "lambda"
   ]
  },
  {
   "cell_type": "code",
   "execution_count": null,
   "id": "b2b99334-a2f5-49fa-9534-a827c2aee563",
   "metadata": {},
   "outputs": [],
   "source": [
    "#Ans10\n",
    "preferred installer program"
   ]
  },
  {
   "cell_type": "code",
   "execution_count": null,
   "id": "fcec2bc6-1278-4f62-8459-92e141018001",
   "metadata": {},
   "outputs": [],
   "source": [
    "#Ans11\n",
    "print( ) function.\n",
    "type( ) function.\n",
    "input( ) function.\n",
    "abs( ) function.\n",
    "pow( ) function.\n",
    "dir( ) function.\n",
    "sorted( ) function.\n",
    "max( ) function."
   ]
  },
  {
   "cell_type": "code",
   "execution_count": null,
   "id": "3c8c251e-e1ff-42c3-9868-296343f56e69",
   "metadata": {},
   "outputs": [],
   "source": [
    "#Ans12\n",
    "79 characters"
   ]
  },
  {
   "cell_type": "code",
   "execution_count": null,
   "id": "6c37e649-3e7a-4b1c-9b6a-2b2654dbc6fe",
   "metadata": {},
   "outputs": [],
   "source": [
    "#Ans13\n",
    "1.Presence of third-party modules \n",
    "2.Extensive support libraries(NumPy for numerical calculations, Pandas for data analytics, etc.) \n",
    "3.Open source and large active community base \n",
    "4.Versatile, Easy to read, learn and write\n",
    "5.User-friendly data structures \n",
    "6.High-level language \n",
    "7.Dynamically typed language(No need to mention data type based on the value assigned, it takes data type) \n",
    "8.Object-Oriented and Procedural  Programming language\n",
    "9.Portable and Interactive\n",
    "10.Ideal for prototypes – provide more functionality with less coding"
   ]
  },
  {
   "cell_type": "code",
   "execution_count": null,
   "id": "fc270cae-e068-4c01-b566-60afb3883e93",
   "metadata": {},
   "outputs": [],
   "source": [
    "#Ans14\n",
    "Memory management in Python involves a private heap containing all Python objects and data structures.\n",
    "Interpreter takes care of Python heap and that the programmer has no access to it.\n",
    "The allocation of heap space for Python objects is done by Python memory manager.\n",
    "The core API of Python provides some tools for the programmer to code reliable and more robust program.\n",
    "Python also has a build-in garbage collector which recycles all the unused memory.\n",
    "When an object is no longer referenced by the program, the heap space it occupies can be freed. The garbage collector determines objects which are no longer referenced by the sprogram frees the occupied memory and make it available to the heap space.\n",
    "The gc module defines functions to enable /disable garbage collector:"
   ]
  },
  {
   "cell_type": "code",
   "execution_count": null,
   "id": "e2d36384-d5d7-4671-8aa9-24ff97a85950",
   "metadata": {},
   "outputs": [],
   "source": [
    "#Ans15\n",
    "Install python from this link https://www.python.org/downloads/\n",
    "After this, install it on your PC. Look for the location where PYTHON has been installed on your PC using the following command on your command prompt:\n",
    "    cmd python.\n",
    "Then go to advanced system settings and add new variable and name it as PYTHON_NAME and paste the copied path.\n",
    "Then look for the path variable, select it's value and select edit\n",
    "Add a semicolon towards the end of the value if it's not present and then type %PYTHON_HOME%"
   ]
  },
  {
   "cell_type": "code",
   "execution_count": null,
   "id": "ada43c0f-3f4c-47c5-a5da-085fe959dd60",
   "metadata": {},
   "outputs": [],
   "source": [
    "#Ans16\n",
    "Indentation refers to the spaces at the beginning of a code line. Where in other programming languages the indentation in code is for readability only, the indentation in Python is very important. Python uses indentation to indicate a block of code"
   ]
  }
 ],
 "metadata": {
  "kernelspec": {
   "display_name": "Python 3 (ipykernel)",
   "language": "python",
   "name": "python3"
  },
  "language_info": {
   "codemirror_mode": {
    "name": "ipython",
    "version": 3
   },
   "file_extension": ".py",
   "mimetype": "text/x-python",
   "name": "python",
   "nbconvert_exporter": "python",
   "pygments_lexer": "ipython3",
   "version": "3.10.8"
  }
 },
 "nbformat": 4,
 "nbformat_minor": 5
}
