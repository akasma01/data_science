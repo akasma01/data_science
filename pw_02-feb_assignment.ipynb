{
 "cells": [
  {
   "cell_type": "code",
   "execution_count": null,
   "id": "16022a0b-17de-4ae4-91ac-bb28752e6607",
   "metadata": {},
   "outputs": [],
   "source": [
    "Q1. Explain with an example each when to use a for loop and a while loop.\n",
    "Q2. Write a python program to print the sum and product of the first 10 natural numbers using for\n",
    "and while loop.\n",
    "Q3. Create a python program to compute the electricity bill for a household.\n",
    "\n",
    "Q4. Create a list of numbers from 1 to 100. Use for loop and while loop to calculate the cube of each\n",
    "number and if the cube of that number is divisible by 4 or 5 then append that number in a list and print\n",
    "that list.\n",
    "The per-unit charges in rupees are as follows: For the first 100 units, the user will be charged Rs. 4.5 per\n",
    "unit, for the next 100 units, the user will be charged Rs. 6 per unit, and for the next 100 units, the user will\n",
    "be charged Rs. 10 per unit, After 300 units and above the user will be charged Rs. 20 per unit.\n",
    "You are required to take the units of electricity consumed in a month from the user as input.\n",
    "Your program must pass this test case: when the unit of electricity consumed by the user in a month is\n",
    "310, the total electricity bill should be 2250.\n",
    "\n",
    "Q5. Write a program to filter count vowels in the below-given string.\n",
    "string = \"I want to become a data scientist\""
   ]
  },
  {
   "cell_type": "code",
   "execution_count": null,
   "id": "f4b70ce0-9de9-4eb2-956b-c6c89e3d7053",
   "metadata": {},
   "outputs": [],
   "source": [
    "##Assignment Feb-02\n",
    "\n",
    "#Ans-1\n",
    "we should use for loop when we already know how many time a loop is going to run in advance or we want to acces the elements of an list,tuple,set,dictonary directly and we should use while loop when we want to stop the loop when a particular condition becomes true.\n",
    "ex:- #for loop\n",
    "        list1 = [9,5,8,3]\n",
    "        for i in list1:\n",
    "            print(i)\n",
    "     #while loop\n",
    "        i = 1\n",
    "        while i<50:\n",
    "            print(i)\n",
    "            i**2\n",
    "            \n",
    "            "
   ]
  },
  {
   "cell_type": "code",
   "execution_count": 13,
   "id": "c0173561-ab8a-4e78-b780-770ee0e237bf",
   "metadata": {},
   "outputs": [
    {
     "name": "stdout",
     "output_type": "stream",
     "text": [
      "55\n",
      "3628800\n"
     ]
    }
   ],
   "source": [
    "#Ans -2\n",
    "#for loop\n",
    "add=0\n",
    "mul = 1\n",
    "for i in range(1,11):\n",
    "    add = add+i\n",
    "    mul = mul*i\n",
    "print(add)\n",
    "print(mul)\n"
   ]
  },
  {
   "cell_type": "code",
   "execution_count": 2,
   "id": "14535d70-0bef-4514-8e91-ca7851d8f161",
   "metadata": {},
   "outputs": [
    {
     "name": "stdout",
     "output_type": "stream",
     "text": [
      "55\n",
      "3628800\n"
     ]
    }
   ],
   "source": [
    "# while loop\n",
    "i=1\n",
    "add=0\n",
    "mul=1\n",
    "while i<=10:\n",
    "    add = add+i\n",
    "    mul = mul*i\n",
    "    i+= 1\n",
    "print(add)\n",
    "print(mul)    "
   ]
  },
  {
   "cell_type": "code",
   "execution_count": 36,
   "id": "4824da31-0ea5-4621-a4d8-0de8fa3c35b4",
   "metadata": {},
   "outputs": [
    {
     "name": "stdin",
     "output_type": "stream",
     "text": [
      "please enter you units 310\n"
     ]
    },
    {
     "name": "stdout",
     "output_type": "stream",
     "text": [
      "100 100 100 10\n",
      "your total bill is 2250.0 Rs.\n"
     ]
    }
   ],
   "source": [
    "#Ans-3\n",
    "unit=int(input(\"please enter you units\"))\n",
    "bill=0\n",
    "count = 1\n",
    "c1,c2,c3,c4=0,0,0,0\n",
    "for i in range(1,unit+1):\n",
    "    if(count<=100):\n",
    "        c1+=1\n",
    "        count+=1\n",
    "    elif(count<=200):\n",
    "        c2+=1\n",
    "        count+=1\n",
    "    elif(count<=300):\n",
    "        c3+=1\n",
    "        count+=1\n",
    "    else:\n",
    "        c4+=1\n",
    "        count+=1\n",
    "    \n",
    "bill = (c1*4.5)+(c2*6)+(c3*10)+(c4*20)\n",
    "print(c1,c2,c3,c4)\n",
    "print(\"your total bill is\", bill,\"Rs.\")\n",
    "    \n",
    "    \n",
    "    "
   ]
  },
  {
   "cell_type": "code",
   "execution_count": 38,
   "id": "798c0fc3-a410-4dc8-b366-ca0d44d96d30",
   "metadata": {},
   "outputs": [
    {
     "name": "stdout",
     "output_type": "stream",
     "text": [
      "[2, 4, 5, 6, 8, 10, 12, 14, 15, 16, 18, 20, 22, 24, 25, 26, 28, 30, 32, 34, 35, 36, 38, 40, 42, 44, 45, 46, 48, 50, 52, 54, 55, 56, 58, 60, 62, 64, 65, 66, 68, 70, 72, 74, 75, 76, 78, 80, 82, 84, 85, 86, 88, 90, 92, 94, 95, 96, 98, 100]\n"
     ]
    }
   ],
   "source": [
    "#Ans 4\n",
    "l1 = []\n",
    "for i in range(1,101):\n",
    "    if((i**3)%4==0 or (i**3)%5==0):\n",
    "        l1.append(i)\n",
    "print(l1)\n",
    "    "
   ]
  },
  {
   "cell_type": "code",
   "execution_count": 1,
   "id": "1e17b6c8-8be2-48f1-9337-7844112dd59c",
   "metadata": {},
   "outputs": [
    {
     "name": "stdout",
     "output_type": "stream",
     "text": [
      "[2, 4, 5, 6, 8, 10, 12, 14, 15, 16, 18, 20, 22, 24, 25, 26, 28, 30, 32, 34, 35, 36, 38, 40, 42, 44, 45, 46, 48, 50, 52, 54, 55, 56, 58, 60, 62, 64, 65, 66, 68, 70, 72, 74, 75, 76, 78, 80, 82, 84, 85, 86, 88, 90, 92, 94, 95, 96, 98, 100]\n"
     ]
    }
   ],
   "source": [
    "#Ans 4\n",
    "l1 = []\n",
    "i= 1\n",
    "while i<=100:\n",
    "    if((i**3)%4==0 or (i**3)%5==0):\n",
    "        l1.append(i)\n",
    "    i+=1\n",
    "print(l1)\n"
   ]
  },
  {
   "cell_type": "code",
   "execution_count": 5,
   "id": "a2cde147-17bd-402d-be1d-a5c32ee738a3",
   "metadata": {},
   "outputs": [
    {
     "name": "stdout",
     "output_type": "stream",
     "text": [
      "12\n"
     ]
    }
   ],
   "source": [
    "#Ans 5\n",
    "s1 = \"i want to become a data scientist\"\n",
    "count = 0\n",
    "for i in s1:\n",
    "    if(i=='a'or i=='e'or i=='i'or i=='o'or i=='u'):\n",
    "        count+=1\n",
    "print(count)"
   ]
  },
  {
   "cell_type": "code",
   "execution_count": null,
   "id": "ab6f5ec1-44dc-49c0-85f0-add6c96cc753",
   "metadata": {},
   "outputs": [],
   "source": []
  }
 ],
 "metadata": {
  "kernelspec": {
   "display_name": "Python 3 (ipykernel)",
   "language": "python",
   "name": "python3"
  },
  "language_info": {
   "codemirror_mode": {
    "name": "ipython",
    "version": 3
   },
   "file_extension": ".py",
   "mimetype": "text/x-python",
   "name": "python",
   "nbconvert_exporter": "python",
   "pygments_lexer": "ipython3",
   "version": "3.10.8"
  }
 },
 "nbformat": 4,
 "nbformat_minor": 5
}
