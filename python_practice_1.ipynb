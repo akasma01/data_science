{
 "cells": [
  {
   "cell_type": "code",
   "execution_count": null,
   "id": "fd5a077b-2825-4a23-a88a-15b7ae9fa727",
   "metadata": {},
   "outputs": [],
   "source": [
    "print(\"hello world\") "
   ]
  },
  {
   "cell_type": "code",
   "execution_count": 2,
   "id": "12bd624b-1307-4eb1-b0ba-ab9b3ccd2df5",
   "metadata": {},
   "outputs": [
    {
     "name": "stdout",
     "output_type": "stream",
     "text": [
      "sma\n"
     ]
    }
   ],
   "source": [
    "print(\"sma\")"
   ]
  },
  {
   "cell_type": "code",
   "execution_count": 3,
   "id": "cc1514a7-08a7-4847-81a5-b1bedf02a468",
   "metadata": {},
   "outputs": [
    {
     "name": "stdout",
     "output_type": "stream",
     "text": [
      "hello world\n"
     ]
    }
   ],
   "source": [
    "print(\"hello world\")"
   ]
  },
  {
   "cell_type": "code",
   "execution_count": 4,
   "id": "546bfcb0-1fbf-4fd5-818b-8418d069dab4",
   "metadata": {},
   "outputs": [],
   "source": [
    "l = [3,4,5,6]"
   ]
  },
  {
   "cell_type": "code",
   "execution_count": 5,
   "id": "7dd710be-1145-4613-842b-78fafec7ce7d",
   "metadata": {},
   "outputs": [
    {
     "data": {
      "text/plain": [
       "[3, 4, 5, 6]"
      ]
     },
     "execution_count": 5,
     "metadata": {},
     "output_type": "execute_result"
    }
   ],
   "source": [
    "l"
   ]
  },
  {
   "cell_type": "code",
   "execution_count": 6,
   "id": "d1165f36-7500-4158-bc8c-8494387b5f1e",
   "metadata": {},
   "outputs": [],
   "source": [
    "l.sort()"
   ]
  },
  {
   "cell_type": "code",
   "execution_count": 7,
   "id": "ddd0e540-9249-4be1-9b81-3d81a6214f31",
   "metadata": {},
   "outputs": [
    {
     "data": {
      "text/plain": [
       "[3, 4, 5, 6]"
      ]
     },
     "execution_count": 7,
     "metadata": {},
     "output_type": "execute_result"
    }
   ],
   "source": [
    "l"
   ]
  },
  {
   "cell_type": "code",
   "execution_count": 8,
   "id": "37acec0d-9b9f-4642-89ce-6bc7855284a9",
   "metadata": {},
   "outputs": [
    {
     "data": {
      "text/plain": [
       "4"
      ]
     },
     "execution_count": 8,
     "metadata": {},
     "output_type": "execute_result"
    }
   ],
   "source": [
    "l.pop(1)"
   ]
  },
  {
   "cell_type": "code",
   "execution_count": 9,
   "id": "a2065c70-6481-4206-9ae3-22d54883b224",
   "metadata": {},
   "outputs": [
    {
     "data": {
      "text/plain": [
       "[3, 5, 6]"
      ]
     },
     "execution_count": 9,
     "metadata": {},
     "output_type": "execute_result"
    }
   ],
   "source": [
    "l"
   ]
  },
  {
   "cell_type": "code",
   "execution_count": 10,
   "id": "8d2bf25e-0d4f-4de1-b227-2cb66cd73d1c",
   "metadata": {},
   "outputs": [
    {
     "data": {
      "text/plain": [
       "<function list.extend(iterable, /)>"
      ]
     },
     "execution_count": 10,
     "metadata": {},
     "output_type": "execute_result"
    }
   ],
   "source": [
    "l.extend"
   ]
  },
  {
   "cell_type": "code",
   "execution_count": 11,
   "id": "9827608b-c3a7-4e37-9051-42d75f83a681",
   "metadata": {},
   "outputs": [],
   "source": [
    "l.insert(1,9)"
   ]
  },
  {
   "cell_type": "code",
   "execution_count": 12,
   "id": "09e22222-2b2d-4e78-9e3c-cbf0f3746f92",
   "metadata": {},
   "outputs": [
    {
     "data": {
      "text/plain": [
       "[3, 9, 5, 6]"
      ]
     },
     "execution_count": 12,
     "metadata": {},
     "output_type": "execute_result"
    }
   ],
   "source": [
    "l"
   ]
  },
  {
   "cell_type": "code",
   "execution_count": 13,
   "id": "2063f72d-e70e-4ee8-89dd-b0e1893de61a",
   "metadata": {},
   "outputs": [],
   "source": [
    "l.sort()"
   ]
  },
  {
   "cell_type": "code",
   "execution_count": 14,
   "id": "aab9eaf4-1115-48db-aa8b-8936b264f9b8",
   "metadata": {},
   "outputs": [
    {
     "data": {
      "text/plain": [
       "[3, 5, 6, 9]"
      ]
     },
     "execution_count": 14,
     "metadata": {},
     "output_type": "execute_result"
    }
   ],
   "source": [
    "l"
   ]
  },
  {
   "cell_type": "code",
   "execution_count": 15,
   "id": "5d3a2063-739e-4b4d-be07-481d53f4c1c7",
   "metadata": {},
   "outputs": [],
   "source": [
    "l.reverse()"
   ]
  },
  {
   "cell_type": "code",
   "execution_count": 18,
   "id": "9794652e-3271-40bf-8d83-bdb9d68496ff",
   "metadata": {},
   "outputs": [
    {
     "data": {
      "text/plain": [
       "[9, 6, 5, 3]"
      ]
     },
     "execution_count": 18,
     "metadata": {},
     "output_type": "execute_result"
    }
   ],
   "source": [
    "l"
   ]
  },
  {
   "cell_type": "code",
   "execution_count": 19,
   "id": "81e06f49-41e5-4480-b61f-01cdd85b0862",
   "metadata": {},
   "outputs": [
    {
     "name": "stdout",
     "output_type": "stream",
     "text": [
      "sma\n"
     ]
    }
   ],
   "source": [
    "print(\"sma\")"
   ]
  },
  {
   "cell_type": "code",
   "execution_count": 20,
   "id": "644ec7dc-3cd7-4c87-acff-7257ba6ceb0c",
   "metadata": {},
   "outputs": [],
   "source": [
    "d1 = {\"Name\":\"Shubham\",\"subject\":[\"English\",\"Maths\",\"Computer\"],\"City\":\"Surat\"}"
   ]
  },
  {
   "cell_type": "code",
   "execution_count": 21,
   "id": "b00ea676-56e0-4107-b69e-c3d5091f0953",
   "metadata": {},
   "outputs": [
    {
     "data": {
      "text/plain": [
       "{'Name': 'Shubham',\n",
       " 'subject': ['English', 'Maths', 'Computer'],\n",
       " 'City': 'Surat'}"
      ]
     },
     "execution_count": 21,
     "metadata": {},
     "output_type": "execute_result"
    }
   ],
   "source": [
    "d1"
   ]
  },
  {
   "cell_type": "code",
   "execution_count": 22,
   "id": "37babc7e-41cb-4cd2-ab0c-af75fee0279f",
   "metadata": {},
   "outputs": [
    {
     "ename": "NameError",
     "evalue": "name 'subject' is not defined",
     "output_type": "error",
     "traceback": [
      "\u001b[0;31m---------------------------------------------------------------------------\u001b[0m",
      "\u001b[0;31mNameError\u001b[0m                                 Traceback (most recent call last)",
      "Cell \u001b[0;32mIn[22], line 1\u001b[0m\n\u001b[0;32m----> 1\u001b[0m d1[\u001b[43msubject\u001b[49m]\n",
      "\u001b[0;31mNameError\u001b[0m: name 'subject' is not defined"
     ]
    }
   ],
   "source": [
    "d1[subject]"
   ]
  },
  {
   "cell_type": "code",
   "execution_count": 23,
   "id": "ad310af5-67a3-4001-87cb-3a0046b9c20c",
   "metadata": {},
   "outputs": [
    {
     "data": {
      "text/plain": [
       "['English', 'Maths', 'Computer']"
      ]
     },
     "execution_count": 23,
     "metadata": {},
     "output_type": "execute_result"
    }
   ],
   "source": [
    "d1[\"subject\"]"
   ]
  },
  {
   "cell_type": "code",
   "execution_count": 24,
   "id": "4d8912c4-f5e9-4355-9f5a-32d8b5a6a544",
   "metadata": {},
   "outputs": [
    {
     "data": {
      "text/plain": [
       "'Maths'"
      ]
     },
     "execution_count": 24,
     "metadata": {},
     "output_type": "execute_result"
    }
   ],
   "source": [
    "d1[\"subject\"][1]"
   ]
  },
  {
   "cell_type": "code",
   "execution_count": 25,
   "id": "bf367654-61f1-47b3-801f-e6e4ebaff998",
   "metadata": {},
   "outputs": [
    {
     "data": {
      "text/plain": [
       "'Ma'"
      ]
     },
     "execution_count": 25,
     "metadata": {},
     "output_type": "execute_result"
    }
   ],
   "source": [
    "d1[\"subject\"][1][0:2]"
   ]
  },
  {
   "cell_type": "code",
   "execution_count": 13,
   "id": "45ecb3da-3e24-498e-8e8e-207230b74f4a",
   "metadata": {},
   "outputs": [
    {
     "name": "stdout",
     "output_type": "stream",
     "text": [
      "95\n",
      "56\n",
      "77\n",
      "84\n",
      "23\n"
     ]
    }
   ],
   "source": [
    "l = [95,56,77,84,23,18]\n",
    "for i in l:\n",
    "    print(i)\n",
    "    if i==23:\n",
    "        break"
   ]
  },
  {
   "cell_type": "code",
   "execution_count": 6,
   "id": "489b87f7-8059-4385-a300-5429d40c8bee",
   "metadata": {},
   "outputs": [
    {
     "ename": "NameError",
     "evalue": "name 'l' is not defined",
     "output_type": "error",
     "traceback": [
      "\u001b[0;31m---------------------------------------------------------------------------\u001b[0m",
      "\u001b[0;31mNameError\u001b[0m                                 Traceback (most recent call last)",
      "Cell \u001b[0;32mIn[6], line 1\u001b[0m\n\u001b[0;32m----> 1\u001b[0m \u001b[38;5;28;01mfor\u001b[39;00m i \u001b[38;5;129;01min\u001b[39;00m \u001b[43ml\u001b[49m:\n\u001b[1;32m      2\u001b[0m     \u001b[38;5;28mprint\u001b[39m(i)\n",
      "\u001b[0;31mNameError\u001b[0m: name 'l' is not defined"
     ]
    }
   ],
   "source": []
  },
  {
   "cell_type": "code",
   "execution_count": 28,
   "id": "af538a43-24b9-4a98-ac31-00efb98fc167",
   "metadata": {},
   "outputs": [
    {
     "name": "stdout",
     "output_type": "stream",
     "text": [
      "100\n",
      "61\n",
      "82\n",
      "89\n",
      "28\n",
      "23\n"
     ]
    }
   ],
   "source": [
    "for i in l:\n",
    "    print(i+5)"
   ]
  },
  {
   "cell_type": "code",
   "execution_count": 2,
   "id": "a8658118-284b-4989-8f5d-76b6dc49f6b4",
   "metadata": {},
   "outputs": [
    {
     "name": "stdout",
     "output_type": "stream",
     "text": [
      "fine\n"
     ]
    }
   ],
   "source": [
    "marks = 55\n",
    "if marks >= 80:\n",
    "    print(\"good\")\n",
    "elif marks >=50:\n",
    "    print(\"fine\")\n",
    "else:\n",
    "    print(\"bad\")"
   ]
  },
  {
   "cell_type": "code",
   "execution_count": 14,
   "id": "157429c6-17ab-4162-b323-812dba7aad79",
   "metadata": {},
   "outputs": [
    {
     "data": {
      "text/plain": [
       "[95, 56, 77, 84, 23, 18]"
      ]
     },
     "execution_count": 14,
     "metadata": {},
     "output_type": "execute_result"
    }
   ],
   "source": [
    "l"
   ]
  },
  {
   "cell_type": "code",
   "execution_count": 9,
   "id": "d8640ec7-1eac-4420-b380-7265885094e3",
   "metadata": {},
   "outputs": [
    {
     "name": "stdout",
     "output_type": "stream",
     "text": [
      "18\n",
      "23\n",
      "84\n",
      "77\n",
      "56\n",
      "95\n"
     ]
    }
   ],
   "source": [
    "l = [95,56,77,84,23,18]\n",
    "for i in range(len(l)-1,-1,-1):\n",
    "    print(l[i])"
   ]
  },
  {
   "cell_type": "code",
   "execution_count": 5,
   "id": "f79bd7d7-0399-4e4d-a4b3-881935395cc5",
   "metadata": {},
   "outputs": [
    {
     "name": "stdout",
     "output_type": "stream",
     "text": [
      "SMA\n"
     ]
    }
   ],
   "source": [
    "print(\"SMA\")"
   ]
  },
  {
   "cell_type": "code",
   "execution_count": 11,
   "id": "c0993095-6fa4-4d66-88f5-447feb70d56b",
   "metadata": {},
   "outputs": [
    {
     "name": "stdout",
     "output_type": "stream",
     "text": [
      "5\n",
      "4\n",
      "3\n",
      "2\n",
      "1\n"
     ]
    }
   ],
   "source": [
    "for i in range(5,0,-1):\n",
    "    print(i)"
   ]
  },
  {
   "cell_type": "code",
   "execution_count": 16,
   "id": "fab72c15-3378-4ddd-b85b-3668538a76f2",
   "metadata": {},
   "outputs": [
    {
     "name": "stdout",
     "output_type": "stream",
     "text": [
      "['0']\n",
      "['1', '0']\n",
      "['2', '0']\n",
      "['3', '0']\n",
      "['4', '0']\n",
      "['5', '0']\n"
     ]
    }
   ],
   "source": [
    "for i in range(0,51,10):\n",
    "    print(list(str(i)))"
   ]
  },
  {
   "cell_type": "code",
   "execution_count": 17,
   "id": "014b6385-05fa-41d8-a1bb-a63cc7316be8",
   "metadata": {},
   "outputs": [
    {
     "name": "stdout",
     "output_type": "stream",
     "text": [
      "[1, 2, 3, 4, 5, 6]\n"
     ]
    }
   ],
   "source": [
    "l1 = [1,2,3]\n",
    "l2 = [4,5,6]\n",
    "l3 = l1+l2\n",
    "print(l3)"
   ]
  },
  {
   "cell_type": "code",
   "execution_count": 27,
   "id": "f59a6fcd-b665-45e0-bb51-e2decefd2d3c",
   "metadata": {},
   "outputs": [],
   "source": [
    "t1 = (56,89,45,75,23,15,23,23)"
   ]
  },
  {
   "cell_type": "code",
   "execution_count": 25,
   "id": "75b227bf-b831-4cbf-a9a0-ad6359d8bba8",
   "metadata": {},
   "outputs": [
    {
     "data": {
      "text/plain": [
       "2"
      ]
     },
     "execution_count": 25,
     "metadata": {},
     "output_type": "execute_result"
    }
   ],
   "source": [
    "t1.index(45)"
   ]
  },
  {
   "cell_type": "code",
   "execution_count": 28,
   "id": "5c1c3328-ecb5-4f6b-ae65-a76660c0cbcc",
   "metadata": {},
   "outputs": [
    {
     "data": {
      "text/plain": [
       "3"
      ]
     },
     "execution_count": 28,
     "metadata": {},
     "output_type": "execute_result"
    }
   ],
   "source": [
    "t1.count(23)"
   ]
  },
  {
   "cell_type": "code",
   "execution_count": 34,
   "id": "7d3c5d7c-7219-4d0f-ad39-437d666ac749",
   "metadata": {},
   "outputs": [
    {
     "name": "stdout",
     "output_type": "stream",
     "text": [
      "* \n",
      "\n",
      "* * \n",
      "\n",
      "* * * \n",
      "\n",
      "* * * * \n",
      "\n",
      "* * * * * \n",
      "\n"
     ]
    }
   ],
   "source": [
    "for i in range(1,6):\n",
    "    for j in range(0,i):\n",
    "        print(\"*\",end=\" \")\n",
    "    print(\"\\n\")\n",
    "    "
   ]
  },
  {
   "cell_type": "code",
   "execution_count": 35,
   "id": "595f7f7e-740d-4929-af76-4c9c8942593f",
   "metadata": {},
   "outputs": [],
   "source": [
    "l1 = [56,89,45,75,23,15,23,23]"
   ]
  },
  {
   "cell_type": "code",
   "execution_count": 55,
   "id": "fb3a0030-524d-47a0-8f3f-642173e7b34b",
   "metadata": {},
   "outputs": [
    {
     "ename": "NameError",
     "evalue": "name 'l_eve' is not defined",
     "output_type": "error",
     "traceback": [
      "\u001b[0;31m---------------------------------------------------------------------------\u001b[0m",
      "\u001b[0;31mNameError\u001b[0m                                 Traceback (most recent call last)",
      "Cell \u001b[0;32mIn[55], line 3\u001b[0m\n\u001b[1;32m      1\u001b[0m \u001b[38;5;28;01mfor\u001b[39;00m i \u001b[38;5;129;01min\u001b[39;00m \u001b[38;5;28mrange\u001b[39m(\u001b[38;5;241m0\u001b[39m,\u001b[38;5;28mlen\u001b[39m(l1)):\n\u001b[1;32m      2\u001b[0m     \u001b[38;5;28;01mif\u001b[39;00m i\u001b[38;5;241m%\u001b[39m\u001b[38;5;241m2\u001b[39m\u001b[38;5;241m==\u001b[39m\u001b[38;5;241m0\u001b[39m:\n\u001b[0;32m----> 3\u001b[0m         l_eve\u001b[38;5;241m+\u001b[39m\u001b[38;5;241m=\u001b[39m [l1[i]]\n\u001b[1;32m      4\u001b[0m     \u001b[38;5;28;01melse\u001b[39;00m:\n\u001b[1;32m      5\u001b[0m         l_od\u001b[38;5;241m+\u001b[39m\u001b[38;5;241m=\u001b[39m [l1[i]]\n",
      "\u001b[0;31mNameError\u001b[0m: name 'l_eve' is not defined"
     ]
    }
   ],
   "source": [
    "for i in range(0,len(l1)):\n",
    "    if i%2==0:\n",
    "        l_eve+= [l1[i]]\n",
    "    else:\n",
    "        l_od+= [l1[i]]\n",
    "\n",
    "print(l_eve,\"\\n\\n\",l_od)\n",
    "        \n",
    "    "
   ]
  },
  {
   "cell_type": "code",
   "execution_count": 48,
   "id": "770205cb-2356-4463-9e04-69cab1b76101",
   "metadata": {},
   "outputs": [
    {
     "name": "stdout",
     "output_type": "stream",
     "text": [
      "[4, 5, 6]\n"
     ]
    }
   ],
   "source": [
    "print(l2)"
   ]
  },
  {
   "cell_type": "code",
   "execution_count": 62,
   "id": "cbb0a81b-6015-46db-b98d-1db9edbe16ac",
   "metadata": {},
   "outputs": [
    {
     "name": "stdout",
     "output_type": "stream",
     "text": [
      "[56, 89, 45, 75, 23, 15, 23, 23]\n",
      "[56, 45, 23, 23] \n",
      "\n",
      " [89, 75, 15, 23]\n"
     ]
    }
   ],
   "source": [
    "print(l1)\n",
    "l_even, l_odd = [],[]\n",
    "for i in range(0,len(l1)):\n",
    "    if i%2==0:\n",
    "        l_even+= [l1[i]]\n",
    "    else:\n",
    "        l_odd+= [l1[i]]\n",
    "\n",
    "print(l_even,\"\\n\\n\",l_odd)"
   ]
  },
  {
   "cell_type": "code",
   "execution_count": 63,
   "id": "acc6a91d-612f-4f23-a93b-8a193d74dacc",
   "metadata": {},
   "outputs": [
    {
     "name": "stdout",
     "output_type": "stream",
     "text": [
      "1\n",
      "2\n",
      "99\n",
      "3\n",
      "5\n",
      "6\n",
      "7\n",
      "8\n",
      "9\n"
     ]
    }
   ],
   "source": [
    "s = {1,2,3,9,9,6,5,2,3,7,8,99}\n",
    "for i in s:\n",
    "    print(i)"
   ]
  },
  {
   "cell_type": "code",
   "execution_count": 64,
   "id": "b6b477b7-97b1-4e83-be40-254c6dd5e82b",
   "metadata": {},
   "outputs": [
    {
     "name": "stdout",
     "output_type": "stream",
     "text": [
      "1\n",
      "2\n",
      "99\n",
      "3\n",
      "5\n",
      "6\n",
      "7\n",
      "8\n",
      "9\n"
     ]
    }
   ],
   "source": [
    "for i in s:\n",
    "    print(i)"
   ]
  },
  {
   "cell_type": "code",
   "execution_count": 65,
   "id": "7d83add0-738e-4458-883a-fe9e7d426e39",
   "metadata": {},
   "outputs": [
    {
     "name": "stdout",
     "output_type": "stream",
     "text": [
      "1\n",
      "2\n",
      "99\n",
      "3\n",
      "5\n",
      "6\n",
      "7\n",
      "8\n",
      "9\n"
     ]
    }
   ],
   "source": [
    "for i in s:\n",
    "    print(i)"
   ]
  },
  {
   "cell_type": "code",
   "execution_count": 1,
   "id": "471b74b2-2b41-45aa-bd06-44e5682def61",
   "metadata": {},
   "outputs": [
    {
     "name": "stdout",
     "output_type": "stream",
     "text": [
      "hello\n"
     ]
    }
   ],
   "source": [
    "print(\"hello\")"
   ]
  },
  {
   "cell_type": "code",
   "execution_count": 2,
   "id": "14cc63a4-da80-4f51-b88d-02a3bd3bf20a",
   "metadata": {},
   "outputs": [
    {
     "data": {
      "text/plain": [
       "15"
      ]
     },
     "execution_count": 2,
     "metadata": {},
     "output_type": "execute_result"
    }
   ],
   "source": [
    "def sma(a,b):\n",
    "    return a+b\n",
    "sma(5,10)"
   ]
  },
  {
   "cell_type": "code",
   "execution_count": 3,
   "id": "4a334635-26b9-4c65-b66b-66bbce061092",
   "metadata": {},
   "outputs": [
    {
     "data": {
      "text/plain": [
       "50"
      ]
     },
     "execution_count": 3,
     "metadata": {},
     "output_type": "execute_result"
    }
   ],
   "source": [
    "sma(20,30)"
   ]
  },
  {
   "cell_type": "code",
   "execution_count": 4,
   "id": "d6616d8a-56ee-4110-8ee6-f95323f2a561",
   "metadata": {},
   "outputs": [
    {
     "name": "stdout",
     "output_type": "stream",
     "text": [
      "0\n",
      "1\n",
      "2\n",
      "3\n",
      "4\n",
      "5\n",
      "6\n",
      "7\n",
      "8\n",
      "9\n",
      "10\n",
      "11\n",
      "12\n",
      "13\n",
      "14\n",
      "15\n",
      "16\n",
      "17\n",
      "18\n",
      "19\n"
     ]
    }
   ],
   "source": [
    "for i in range(20):\n",
    "    print(i)"
   ]
  },
  {
   "cell_type": "code",
   "execution_count": 5,
   "id": "0b5f69d9-346c-4ba2-8ff6-e04cd800fac6",
   "metadata": {},
   "outputs": [
    {
     "name": "stdout",
     "output_type": "stream",
     "text": [
      "20\n",
      "21\n",
      "22\n",
      "23\n",
      "24\n",
      "25\n",
      "26\n",
      "27\n",
      "28\n",
      "29\n"
     ]
    }
   ],
   "source": [
    "for i in range(20,30):\n",
    "    print(i)"
   ]
  },
  {
   "cell_type": "code",
   "execution_count": 8,
   "id": "e23a332b-4fdb-440d-a861-656d38d71965",
   "metadata": {},
   "outputs": [
    {
     "name": "stdout",
     "output_type": "stream",
     "text": [
      "40\n",
      "39\n",
      "38\n",
      "37\n",
      "36\n",
      "35\n",
      "34\n",
      "33\n",
      "32\n",
      "31\n"
     ]
    }
   ],
   "source": [
    "for i in range(40,30,-1):\n",
    "    print(i)"
   ]
  },
  {
   "cell_type": "code",
   "execution_count": 13,
   "id": "15645568-87f0-4a2c-a045-2d0cc9797059",
   "metadata": {},
   "outputs": [
    {
     "name": "stdin",
     "output_type": "stream",
     "text": [
      "plz enter a number 2\n"
     ]
    },
    {
     "name": "stdout",
     "output_type": "stream",
     "text": [
      "1\n"
     ]
    }
   ],
   "source": [
    "#multiple of the given number\n",
    "n = int(input(\"plz enter a number\"))\n",
    "no=1\n",
    "while i<n:\n",
    "    no *= i \n",
    "    i+= 1\n",
    "print(no)\n"
   ]
  },
  {
   "cell_type": "code",
   "execution_count": 14,
   "id": "316eb88e-306b-4f7d-8fac-799a970ce3bb",
   "metadata": {},
   "outputs": [
    {
     "name": "stdin",
     "output_type": "stream",
     "text": [
      "plz enter a number 2\n"
     ]
    },
    {
     "name": "stdout",
     "output_type": "stream",
     "text": [
      "1\n"
     ]
    }
   ],
   "source": [
    "#multiple of the given number\n",
    "n = int(input(\"plz enter a number\"))\n",
    "no=1\n",
    "while i<n:\n",
    "    no *= i \n",
    "    i+= 1\n",
    "print(no)"
   ]
  },
  {
   "cell_type": "code",
   "execution_count": 22,
   "id": "f7f64a3d-0e09-4cc3-ad1c-598077604441",
   "metadata": {},
   "outputs": [
    {
     "name": "stdin",
     "output_type": "stream",
     "text": [
      "plz enter a number 5\n"
     ]
    },
    {
     "name": "stdout",
     "output_type": "stream",
     "text": [
      "1\n",
      "2\n",
      "3\n",
      "4\n",
      "5\n",
      "120\n"
     ]
    }
   ],
   "source": [
    "#multiple of the given number\n",
    "n = int(input(\"plz enter a number\"))\n",
    "no=1\n",
    "i=1\n",
    "while i<n+1:\n",
    "    print(i)\n",
    "    no*= i \n",
    "    i+= 1\n",
    "print(no)"
   ]
  },
  {
   "cell_type": "code",
   "execution_count": 25,
   "id": "e3952ae3-16e5-41d9-9d7c-251cefaa1a0c",
   "metadata": {},
   "outputs": [
    {
     "name": "stdin",
     "output_type": "stream",
     "text": [
      "plz enter a number 5\n"
     ]
    },
    {
     "name": "stdout",
     "output_type": "stream",
     "text": [
      "0\n",
      "1\n",
      "1\n",
      "2\n",
      "3\n"
     ]
    }
   ],
   "source": [
    "#fibonacci series using while loop\n",
    "n = int(input(\"plz enter a number\"))\n",
    "a,b,c = 0,1,0\n",
    "i = 0\n",
    "while i<n:\n",
    "    print(a)\n",
    "    c=a+b\n",
    "    a=b\n",
    "    b=c\n",
    "    i+=1\n",
    "\n"
   ]
  },
  {
   "cell_type": "code",
   "execution_count": 32,
   "id": "66c0331f-cee6-4823-b068-f2858af0601d",
   "metadata": {},
   "outputs": [
    {
     "name": "stdin",
     "output_type": "stream",
     "text": [
      "plz enter a number 5\n"
     ]
    },
    {
     "name": "stdout",
     "output_type": "stream",
     "text": [
      "15\n"
     ]
    }
   ],
   "source": [
    "n = int(input(\"plz enter a number\"))\n",
    "no = 0\n",
    "i=0\n",
    "while i<n+1:\n",
    "    no+=i\n",
    "    i+=1\n",
    "print(no)\n",
    "    "
   ]
  },
  {
   "cell_type": "code",
   "execution_count": 40,
   "id": "edda9a16-4002-4003-8e48-81781105af41",
   "metadata": {},
   "outputs": [
    {
     "data": {
      "text/plain": [
       "{'a': 30, 'b': 40, 'v': 50}"
      ]
     },
     "execution_count": 40,
     "metadata": {},
     "output_type": "execute_result"
    }
   ],
   "source": [
    "\n",
    "def sub(**sma):\n",
    "    return sma\n",
    "sub(a=30,b=40,v=50)"
   ]
  },
  {
   "cell_type": "code",
   "execution_count": 1,
   "id": "51886855-e34d-4904-bbce-7740ebef76cc",
   "metadata": {},
   "outputs": [],
   "source": [
    "l= [3,4,6,8,9]\n"
   ]
  },
  {
   "cell_type": "code",
   "execution_count": 2,
   "id": "30ba5fd4-a2b9-40f0-a0c0-4b9b7b6155e3",
   "metadata": {},
   "outputs": [
    {
     "ename": "TypeError",
     "evalue": "'list' object is not an iterator",
     "output_type": "error",
     "traceback": [
      "\u001b[0;31m---------------------------------------------------------------------------\u001b[0m",
      "\u001b[0;31mTypeError\u001b[0m                                 Traceback (most recent call last)",
      "Cell \u001b[0;32mIn[2], line 1\u001b[0m\n\u001b[0;32m----> 1\u001b[0m \u001b[38;5;28;43mnext\u001b[39;49m\u001b[43m(\u001b[49m\u001b[43ml\u001b[49m\u001b[43m)\u001b[49m\n",
      "\u001b[0;31mTypeError\u001b[0m: 'list' object is not an iterator"
     ]
    }
   ],
   "source": [
    "next(l)"
   ]
  },
  {
   "cell_type": "code",
   "execution_count": 8,
   "id": "cbbbc2c9-0add-4ede-9bba-4b10c9901906",
   "metadata": {},
   "outputs": [],
   "source": [
    "s= iter(l)"
   ]
  },
  {
   "cell_type": "code",
   "execution_count": 6,
   "id": "84866bf6-a3d6-432c-aa50-7597416d7d9c",
   "metadata": {},
   "outputs": [
    {
     "data": {
      "text/plain": [
       "3"
      ]
     },
     "execution_count": 6,
     "metadata": {},
     "output_type": "execute_result"
    }
   ],
   "source": [
    "next(iter(l))"
   ]
  },
  {
   "cell_type": "code",
   "execution_count": 14,
   "id": "2ead762f-a0b5-43d1-8b15-9acf0283b2c7",
   "metadata": {},
   "outputs": [
    {
     "ename": "StopIteration",
     "evalue": "",
     "output_type": "error",
     "traceback": [
      "\u001b[0;31m---------------------------------------------------------------------------\u001b[0m",
      "\u001b[0;31mStopIteration\u001b[0m                             Traceback (most recent call last)",
      "Cell \u001b[0;32mIn[14], line 1\u001b[0m\n\u001b[0;32m----> 1\u001b[0m \u001b[38;5;28;43mnext\u001b[39;49m\u001b[43m(\u001b[49m\u001b[43ms\u001b[49m\u001b[43m)\u001b[49m\n",
      "\u001b[0;31mStopIteration\u001b[0m: "
     ]
    }
   ],
   "source": [
    "next(s)"
   ]
  },
  {
   "cell_type": "code",
   "execution_count": 15,
   "id": "4bc1d7aa-2794-43f1-86c7-866e542d0a9f",
   "metadata": {},
   "outputs": [],
   "source": [
    "def fact():\n",
    "    a,b = 0,1\n",
    "    while True:\n",
    "        yield a\n",
    "        a,b = b,a+b\n",
    "        \n",
    "        "
   ]
  },
  {
   "cell_type": "code",
   "execution_count": 26,
   "id": "7616f406-493c-4160-8826-3fe64cef9d09",
   "metadata": {},
   "outputs": [],
   "source": [
    "f1 = fact()"
   ]
  },
  {
   "cell_type": "code",
   "execution_count": 25,
   "id": "1a394992-5b04-4c25-91ed-6a1dd76aee39",
   "metadata": {},
   "outputs": [
    {
     "data": {
      "text/plain": [
       "0"
      ]
     },
     "execution_count": 25,
     "metadata": {},
     "output_type": "execute_result"
    }
   ],
   "source": [
    "next(fact())"
   ]
  },
  {
   "cell_type": "code",
   "execution_count": 27,
   "id": "dc917490-eb00-41c9-8bf7-45b15d590932",
   "metadata": {},
   "outputs": [
    {
     "name": "stdout",
     "output_type": "stream",
     "text": [
      "0\n",
      "1\n",
      "1\n",
      "2\n",
      "3\n",
      "5\n",
      "8\n",
      "13\n",
      "21\n",
      "34\n"
     ]
    }
   ],
   "source": [
    "for i in range(10):\n",
    "    print(next(f1))"
   ]
  },
  {
   "cell_type": "code",
   "execution_count": 19,
   "id": "f5802554-adfb-449b-838a-7262665fe55f",
   "metadata": {},
   "outputs": [],
   "source": [
    "f1 = fact()"
   ]
  },
  {
   "cell_type": "code",
   "execution_count": 23,
   "id": "28c4b4ec-9159-492a-b100-fa130823352f",
   "metadata": {},
   "outputs": [
    {
     "data": {
      "text/plain": [
       "2"
      ]
     },
     "execution_count": 23,
     "metadata": {},
     "output_type": "execute_result"
    }
   ],
   "source": [
    "next(f1)"
   ]
  },
  {
   "cell_type": "code",
   "execution_count": 28,
   "id": "2ea8c4ed-0cf7-44d9-9630-497c8db58d9e",
   "metadata": {},
   "outputs": [
    {
     "name": "stdout",
     "output_type": "stream",
     "text": [
      "633825300114114700748351602688\n"
     ]
    }
   ],
   "source": [
    "print(2**99)"
   ]
  },
  {
   "cell_type": "code",
   "execution_count": 29,
   "id": "b7579a8d-501a-4ed6-bca7-36ffbf9460b3",
   "metadata": {},
   "outputs": [],
   "source": [
    "a = lambda c,d: c+d "
   ]
  },
  {
   "cell_type": "code",
   "execution_count": 30,
   "id": "4f43d2c0-8e6e-4540-a7c1-574c6db1fc17",
   "metadata": {},
   "outputs": [
    {
     "data": {
      "text/plain": [
       "7"
      ]
     },
     "execution_count": 30,
     "metadata": {},
     "output_type": "execute_result"
    }
   ],
   "source": [
    "a(4,3)"
   ]
  },
  {
   "cell_type": "code",
   "execution_count": 31,
   "id": "506efb4a-541e-454a-932a-436aae409a0a",
   "metadata": {},
   "outputs": [],
   "source": [
    "max = lambda x,y : x if x>y else y"
   ]
  },
  {
   "cell_type": "code",
   "execution_count": 32,
   "id": "fde340d8-a8b0-44fb-b469-69b67cc78d52",
   "metadata": {},
   "outputs": [
    {
     "data": {
      "text/plain": [
       "467"
      ]
     },
     "execution_count": 32,
     "metadata": {},
     "output_type": "execute_result"
    }
   ],
   "source": [
    "max(34,467)"
   ]
  },
  {
   "cell_type": "code",
   "execution_count": 34,
   "id": "dea959b5-cda0-4615-a238-666bd5300beb",
   "metadata": {},
   "outputs": [
    {
     "name": "stdout",
     "output_type": "stream",
     "text": [
      "<class 'int'>\n"
     ]
    }
   ],
   "source": [
    "print(type(1))"
   ]
  },
  {
   "cell_type": "code",
   "execution_count": null,
   "id": "dd6b85d7-9d7e-4aa2-8943-67a051bef2b4",
   "metadata": {},
   "outputs": [],
   "source": []
  }
 ],
 "metadata": {
  "kernelspec": {
   "display_name": "Python 3 (ipykernel)",
   "language": "python",
   "name": "python3"
  },
  "language_info": {
   "codemirror_mode": {
    "name": "ipython",
    "version": 3
   },
   "file_extension": ".py",
   "mimetype": "text/x-python",
   "name": "python",
   "nbconvert_exporter": "python",
   "pygments_lexer": "ipython3",
   "version": "3.10.8"
  }
 },
 "nbformat": 4,
 "nbformat_minor": 5
}
