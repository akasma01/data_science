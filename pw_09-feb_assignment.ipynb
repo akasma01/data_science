{
 "cells": [
  {
   "cell_type": "code",
   "execution_count": 77,
   "id": "1d569c7f-57cb-4b46-9b85-4cdda306c3ac",
   "metadata": {},
   "outputs": [],
   "source": [
    "#Ans1\n",
    "class vehicle:\n",
    "    def __init__(self,name,max_speed,avg_speed):\n",
    "        self.name_of_vehicle = name\n",
    "        self.max_speed = max_speed\n",
    "        self.average_of_vehicle =avg_speed\n",
    "    def vehicle_details(self):\n",
    "        print(self.name_of_vehicle,self.max_speed,self.average_of_vehicle)\n"
   ]
  },
  {
   "cell_type": "code",
   "execution_count": 78,
   "id": "d7c3182b-ae71-4215-ab80-af4fc3464722",
   "metadata": {},
   "outputs": [
    {
     "name": "stdout",
     "output_type": "stream",
     "text": [
      "maruti 120 55\n"
     ]
    }
   ],
   "source": [
    "s=vehicle('maruti',120,55)\n",
    "s.vehicle_details()\n"
   ]
  },
  {
   "cell_type": "code",
   "execution_count": 79,
   "id": "4057d928-3398-4eac-a9ec-7f7d91d1277c",
   "metadata": {},
   "outputs": [],
   "source": [
    "#Ans2\n",
    "class car(vehicle):\n",
    "    def seating_capacity(self,cap):\n",
    "        self.capacity = cap\n",
    "        return self.name_of_vehicle,self.capacity\n",
    "    \n",
    "        \n",
    "        "
   ]
  },
  {
   "cell_type": "code",
   "execution_count": 80,
   "id": "05f00f41-c2f1-48b8-9dc2-cb7085daf1df",
   "metadata": {},
   "outputs": [
    {
     "data": {
      "text/plain": [
       "('alto', 4)"
      ]
     },
     "execution_count": 80,
     "metadata": {},
     "output_type": "execute_result"
    }
   ],
   "source": [
    "c1=car('alto',90,44)\n",
    "c1.seating_capacity(4)"
   ]
  },
  {
   "cell_type": "code",
   "execution_count": null,
   "id": "700e889a-7bb4-45c8-aca6-165f2f66f5fd",
   "metadata": {},
   "outputs": [],
   "source": [
    "#Ans3\n",
    "When the derived class inherits more than one base class i.e a child class can have multiple parent class then such type of inheritance is known as multiple inheritance"
   ]
  },
  {
   "cell_type": "code",
   "execution_count": 52,
   "id": "353f7ecf-852f-4806-9f7c-88179cba7074",
   "metadata": {},
   "outputs": [],
   "source": [
    "#Ex:-\n",
    "class parent1:\n",
    "    def call_parent1(self):\n",
    "        return 5\n",
    "class parent2:\n",
    "    def call_parent2(self):\n",
    "        return 10\n",
    "class child(parent1,parent2):\n",
    "    def add_parents(self):\n",
    "        print(self.call_parent1() + self.call_parent2())\n",
    "\n",
    "\n",
    "\n"
   ]
  },
  {
   "cell_type": "code",
   "execution_count": 53,
   "id": "87182082-6071-4970-b8b1-7ce6ebbd4832",
   "metadata": {},
   "outputs": [
    {
     "name": "stdout",
     "output_type": "stream",
     "text": [
      "15\n"
     ]
    }
   ],
   "source": [
    "c1=child()\n",
    "c1.add_parents()"
   ]
  },
  {
   "cell_type": "code",
   "execution_count": null,
   "id": "5f3e8624-bc26-481d-b99f-9d4763e53eed",
   "metadata": {},
   "outputs": [],
   "source": [
    "#Ans4\n",
    "In Python property()is a built-in function that creates and returns a property object. A property object has three methods, getter(), setter(), and delete(). property() function in Python has four arguments property(fget, fset, fdel, doc), fget is a function for retrieving an attribute value. fset is a function for setting an attribute value. fdel is a function for deleting an attribute value. doc creates a docstring for attribute. A property object has three methods, getter(), setter(), and delete() to specify fget, fset and fdel individually. For Example\n",
    "\n",
    "Python @property is one of the built-in decorators. The main purpose of any decorator is to change your class methods or attributes in such a way so that the user of your class no need to make any change in their code. For Example\n",
    "\n",
    "#Ex:-\n",
    "class sma:\n",
    "\tdef __init__(self):\n",
    "\t\tself._age = 0\n",
    "\t\n",
    "\t# using property decorator\n",
    "\t# a getter function\n",
    "\t@property\n",
    "\tdef age(self):\n",
    "\t\tprint(\"getter method called\")\n",
    "\t\treturn self._age\n",
    "\t\n",
    "\t# a setter function\n",
    "\t@age.setter\n",
    "\tdef age(self, a):\n",
    "\t\tif(a < 18):\n",
    "\t\t\traise ValueError(\"Sorry you age is below eligibility criteria\")\n",
    "\t\tprint(\"setter method called\")\n",
    "\t\tself._age = a\n",
    "\n",
    "mark = sma()\n",
    "\n",
    "mark.age = 19\n",
    "\n",
    "print(mark.age)\n"
   ]
  },
  {
   "cell_type": "code",
   "execution_count": null,
   "id": "0724f56d-ae90-4c5b-b379-cc0f5f704f4e",
   "metadata": {},
   "outputs": [],
   "source": [
    "#Ans5\n",
    "Method overriding in Python is when you have two methods with the same name that each perform different tasks. This is an important feature of inheritance in Python.\n",
    "\n",
    "In method overriding, the child class can change its functions that are defined by its ancestral classes. In other words, the child class has access to the properties and functions of the parent class method while also extending additional functions of its own to the method. If a method in a superclass coincides with that of a subclass, then the subclass is said to override the superclass.\n",
    "\n",
    "There are two prerequisite conditions for Method overriding:\n",
    "\n",
    "Inheritance should be present in the code, method overriding cannot be performed in the same class, and overriding can only be executed when a child class is derived through inheritance.\n",
    "\n",
    "The child class should have the same name and the same number of parameters as the parent class."
   ]
  },
  {
   "cell_type": "code",
   "execution_count": 76,
   "id": "aca25e65-ca20-49cd-919f-f36b5e50e83c",
   "metadata": {},
   "outputs": [
    {
     "name": "stdout",
     "output_type": "stream",
     "text": [
      "hi\n"
     ]
    }
   ],
   "source": [
    "#Ex:-\n",
    "class parent1:\n",
    "    def call_parent(self):\n",
    "        print(\"hello\")\n",
    "class parent2(parent1):\n",
    "    def call_parent(self):\n",
    "        print(\"hi\")\n",
    "        \n",
    "p = parent2()\n",
    "p.call_parent()"
   ]
  },
  {
   "cell_type": "code",
   "execution_count": null,
   "id": "62aa029a-473f-472c-b22b-c9449ae52d28",
   "metadata": {},
   "outputs": [],
   "source": []
  }
 ],
 "metadata": {
  "kernelspec": {
   "display_name": "Python 3 (ipykernel)",
   "language": "python",
   "name": "python3"
  },
  "language_info": {
   "codemirror_mode": {
    "name": "ipython",
    "version": 3
   },
   "file_extension": ".py",
   "mimetype": "text/x-python",
   "name": "python",
   "nbconvert_exporter": "python",
   "pygments_lexer": "ipython3",
   "version": "3.10.8"
  }
 },
 "nbformat": 4,
 "nbformat_minor": 5
}
