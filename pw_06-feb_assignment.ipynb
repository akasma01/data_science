{
 "cells": [
  {
   "cell_type": "code",
   "execution_count": 18,
   "id": "dc9865cf-cd32-46c9-b7b8-c565bcba24bd",
   "metadata": {},
   "outputs": [],
   "source": [
    "#Ans1\n",
    "list1 = [1,2,3,4, [44,55,66, True], False, (34,56,78,89,34), {1,2,3,3,2,1}, {1:34, \"key2\": [55, 67, 78, 89], 4: (45,\n",
    "22, 61, 34)}, [56, 'data science'], 'Machine Learning']"
   ]
  },
  {
   "cell_type": "code",
   "execution_count": 20,
   "id": "311b8248-0193-45ef-847b-b2e9fe8f84d4",
   "metadata": {},
   "outputs": [
    {
     "name": "stdout",
     "output_type": "stream",
     "text": [
      "[1, 2, 3, 4, 44, 55, 66, True, False, 34, 56, 78, 89, 34, 1, 2, 3, 1, 34, 'key2', 55, 67, 78, 89, 4, 45, 22, 61, 34, 56, 'data science', 'Machine Learning']\n"
     ]
    }
   ],
   "source": [
    "\n",
    "l2=[]\n",
    "while True:\n",
    "    \n",
    "    \n",
    "    for i in list1:\n",
    "        \n",
    "        if(type(i)==int or type(i)==str or type(i)==float or type(i)==bool):\n",
    "            \n",
    "            l2.append(i)\n",
    "        \n",
    "        elif(type(i)==list):\n",
    "        \n",
    "            for j in i:\n",
    "            \n",
    "                l2.append(j)\n",
    "        elif(type(i)==tuple):\n",
    "        \n",
    "            for j in i:\n",
    "            \n",
    "                l2.append(j)\n",
    "        elif(type(i)==dict):\n",
    "        \n",
    "            for k,v in i.items():\n",
    "            \n",
    "                l2.append(k)\n",
    "                l2.append(v)\n",
    "        elif(type(i)==set):\n",
    "        \n",
    "            for j in i:\n",
    "            \n",
    "                l2.append(j)\n",
    "    list1=l2 \n",
    "    l2 = []\n",
    "            \n",
    "    if((any(isinstance(i, list) for i in list1))==False):\n",
    "        \n",
    "        break\n",
    "print(list1)"
   ]
  },
  {
   "cell_type": "code",
   "execution_count": 52,
   "id": "b806d4a5-c1a0-4054-99c9-33adaba9ba02",
   "metadata": {},
   "outputs": [
    {
     "name": "stdout",
     "output_type": "stream",
     "text": [
      "I$wznt$to$yexome$z$Dztz$Sxientist\n"
     ]
    }
   ],
   "source": [
    "#Ans2\n",
    "string = \"I want to become a Data Scientist.\"\n",
    "string.lower()\n",
    "str2=\"\"\n",
    "for i in range(0,len(string)-1):\n",
    "    if(string[i]=='a'):\n",
    "        str2 +=  'z'\n",
    "    elif(string[i]=='b'):\n",
    "        str2 +=  'y'\n",
    "    elif(string[i]=='c'):\n",
    "        str2 +=  'x'\n",
    "    elif(string[i]==' '):\n",
    "        str2 +=  '$'\n",
    "    else:\n",
    "        str2 += string[i]\n",
    "print(str2)"
   ]
  },
  {
   "cell_type": "code",
   "execution_count": null,
   "id": "19cc34c2-f2f4-45a3-b60a-6570ef49be8f",
   "metadata": {},
   "outputs": [],
   "source": []
  }
 ],
 "metadata": {
  "kernelspec": {
   "display_name": "Python 3 (ipykernel)",
   "language": "python",
   "name": "python3"
  },
  "language_info": {
   "codemirror_mode": {
    "name": "ipython",
    "version": 3
   },
   "file_extension": ".py",
   "mimetype": "text/x-python",
   "name": "python",
   "nbconvert_exporter": "python",
   "pygments_lexer": "ipython3",
   "version": "3.10.8"
  }
 },
 "nbformat": 4,
 "nbformat_minor": 5
}
