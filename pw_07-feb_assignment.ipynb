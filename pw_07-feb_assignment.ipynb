{
 "cells": [
  {
   "cell_type": "code",
   "execution_count": 34,
   "id": "ee84cb93-df9d-4b3d-a08c-3969f5cb4874",
   "metadata": {},
   "outputs": [],
   "source": [
    "#Ans1\n",
    "str1= \"PWskills_**07\"\n",
    "def check_psswd(psswd):\n",
    "    cu,cl,cn,cs=0,0,0,0\n",
    "    Flag = True\n",
    "    if(len(psswd)>=10):\n",
    "        for i in psswd:\n",
    "            if(i.isupper()):\n",
    "                cu+=1\n",
    "            elif(i.islower()):\n",
    "                cl+=1\n",
    "            elif(i.isnumeric()):\n",
    "                cn+=1\n",
    "            else:\n",
    "                cs+=1\n",
    "        if(cu>=2 and cl>=2 and cn>1 and cs>=3):\n",
    "            print(\"Valid password\")\n",
    "        else:\n",
    "            print(\"Invalid Password\")\n",
    "            \n",
    "        \n",
    "    else:\n",
    "        print(\"Invalid Password\")\n",
    "        \n",
    "    #password = psswd\n",
    "   # return psswd\n",
    "    "
   ]
  },
  {
   "cell_type": "code",
   "execution_count": 35,
   "id": "9f72f5ac-a892-4b42-9710-7f86e3168def",
   "metadata": {},
   "outputs": [
    {
     "name": "stdout",
     "output_type": "stream",
     "text": [
      "Valid password\n"
     ]
    }
   ],
   "source": [
    "check_psswd(str1)"
   ]
  },
  {
   "cell_type": "code",
   "execution_count": 21,
   "id": "8271402f-dde9-4535-b879-793bea8c8b88",
   "metadata": {},
   "outputs": [
    {
     "data": {
      "text/plain": [
       "False"
      ]
     },
     "execution_count": 21,
     "metadata": {},
     "output_type": "execute_result"
    }
   ],
   "source": [
    "#Ans2.1\n",
    "val=(lambda x:x.startswith('s'))\n",
    "val('joke')"
   ]
  },
  {
   "cell_type": "code",
   "execution_count": 28,
   "id": "e3faef9e-ba76-4b31-ad71-51f36c9fc09a",
   "metadata": {},
   "outputs": [
    {
     "data": {
      "text/plain": [
       "False"
      ]
     },
     "execution_count": 28,
     "metadata": {},
     "output_type": "execute_result"
    }
   ],
   "source": [
    "#Ans2.2\n",
    "str1=\"delhi\"\n",
    "any([i.isnumeric() for i in str1])"
   ]
  },
  {
   "cell_type": "code",
   "execution_count": 35,
   "id": "66fd184e-a4d9-423c-87f0-42ef7663d0a6",
   "metadata": {},
   "outputs": [
    {
     "name": "stdout",
     "output_type": "stream",
     "text": [
      "[('orange', 80), ('mango', 99), ('grapes', 1000)]\n"
     ]
    }
   ],
   "source": [
    "#Ans2.3\n",
    "def Sort_Tuple(tup):\n",
    "        tup.sort(key = lambda x: x[1])\n",
    "        return tup\n",
    "    \n",
    "tup = [(\"mango\",99),(\"orange\",80), (\"grapes\", 1000)]\n",
    "print(Sort_Tuple(tup))"
   ]
  },
  {
   "cell_type": "code",
   "execution_count": 36,
   "id": "2a837bf3-32dc-4731-bf42-ae073d5ffe9b",
   "metadata": {},
   "outputs": [
    {
     "data": {
      "text/plain": [
       "[1, 4, 9, 16, 25, 36, 49, 64, 81, 100]"
      ]
     },
     "execution_count": 36,
     "metadata": {},
     "output_type": "execute_result"
    }
   ],
   "source": [
    "#Ans2.4\n",
    "[i**2 for i in range(1,11)]"
   ]
  },
  {
   "cell_type": "code",
   "execution_count": 37,
   "id": "2d845079-0f03-48ea-aa47-3456a3f24c61",
   "metadata": {},
   "outputs": [
    {
     "data": {
      "text/plain": [
       "[1, 8, 27, 64, 125, 216, 343, 512, 729, 1000]"
      ]
     },
     "execution_count": 37,
     "metadata": {},
     "output_type": "execute_result"
    }
   ],
   "source": [
    "#Ans2.5\n",
    "[i**3 for i in range(1,11)]"
   ]
  },
  {
   "cell_type": "code",
   "execution_count": 62,
   "id": "d27f044e-fda7-45a1-b7c4-365279fbf2e0",
   "metadata": {},
   "outputs": [
    {
     "data": {
      "text/plain": [
       "'Even'"
      ]
     },
     "execution_count": 62,
     "metadata": {},
     "output_type": "execute_result"
    }
   ],
   "source": [
    "#Ans2.6\n",
    "val =lambda number:\"Even\" if number % 2 == 0 else \"odd\"\n",
    "val(8)"
   ]
  },
  {
   "cell_type": "code",
   "execution_count": 65,
   "id": "18daeab2-a879-4d1b-b157-0ea81f7acfe0",
   "metadata": {},
   "outputs": [
    {
     "data": {
      "text/plain": [
       "[1, 3, 5, 7, 9]"
      ]
     },
     "execution_count": 65,
     "metadata": {},
     "output_type": "execute_result"
    }
   ],
   "source": [
    "#Ans2.7\n",
    "l1=[1,2,3,4,5,6,7,8,9,10]\n",
    "l2=[]\n",
    "l2 = list(filter(lambda x: x%2 != 0 ,l1))\n",
    "l2"
   ]
  },
  {
   "cell_type": "code",
   "execution_count": 72,
   "id": "b411faed-2273-4b33-89cc-ad89723553e0",
   "metadata": {},
   "outputs": [
    {
     "data": {
      "text/plain": [
       "[None, None, None, None, None, None, None, None, None, None, None, None]"
      ]
     },
     "execution_count": 72,
     "metadata": {},
     "output_type": "execute_result"
    }
   ],
   "source": [
    "#Ans2.8\n",
    "l = [1,2,3,4,5,6,-1,-2,-3,-4,-5,0]\n",
    "l1=[]\n",
    "l2=[]\n",
    "[l1.append(i) if i >=0 else l2.append(i) for i in l]"
   ]
  },
  {
   "cell_type": "code",
   "execution_count": 73,
   "id": "2be2743e-e77f-486c-8d21-890311b67a8a",
   "metadata": {},
   "outputs": [
    {
     "data": {
      "text/plain": [
       "[1, 2, 3, 4, 5, 6, 0]"
      ]
     },
     "execution_count": 73,
     "metadata": {},
     "output_type": "execute_result"
    }
   ],
   "source": [
    "l1"
   ]
  },
  {
   "cell_type": "code",
   "execution_count": 74,
   "id": "63da6217-d13a-42c9-85a6-0167cef2301f",
   "metadata": {},
   "outputs": [
    {
     "data": {
      "text/plain": [
       "[-1, -2, -3, -4, -5]"
      ]
     },
     "execution_count": 74,
     "metadata": {},
     "output_type": "execute_result"
    }
   ],
   "source": [
    "l2"
   ]
  },
  {
   "cell_type": "code",
   "execution_count": null,
   "id": "91c5b32f-2a56-4b35-beb2-31e9562c9a63",
   "metadata": {},
   "outputs": [],
   "source": []
  }
 ],
 "metadata": {
  "kernelspec": {
   "display_name": "Python 3 (ipykernel)",
   "language": "python",
   "name": "python3"
  },
  "language_info": {
   "codemirror_mode": {
    "name": "ipython",
    "version": 3
   },
   "file_extension": ".py",
   "mimetype": "text/x-python",
   "name": "python",
   "nbconvert_exporter": "python",
   "pygments_lexer": "ipython3",
   "version": "3.10.8"
  }
 },
 "nbformat": 4,
 "nbformat_minor": 5
}
