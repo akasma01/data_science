{
 "cells": [
  {
   "cell_type": "code",
   "execution_count": 24,
   "id": "0def26b4-4e12-4152-9d53-f05983079075",
   "metadata": {},
   "outputs": [
    {
     "name": "stdout",
     "output_type": "stream",
     "text": [
      "0     4\n",
      "1     8\n",
      "2    15\n",
      "3    16\n",
      "4    23\n",
      "5    42\n",
      "dtype: int64\n"
     ]
    }
   ],
   "source": [
    "#Ans1\n",
    "import pandas as pd\n",
    "df=pd.Series([4,8,15,16,23,42])\n",
    "print(df)"
   ]
  },
  {
   "cell_type": "code",
   "execution_count": null,
   "id": "b35f7e50-b99d-40b1-981c-edd4f1d5906e",
   "metadata": {},
   "outputs": [
    {
     "name": "stdout",
     "output_type": "stream",
     "text": [
      "0      ram\n",
      "1    shyam\n",
      "2      sma\n",
      "3        4\n",
      "4        8\n",
      "5        2\n",
      "6        3\n",
      "7     raju\n",
      "8        6\n",
      "9        4\n",
      "dtype: object\n"
     ]
    }
   ],
   "source": [
    "#Ans2\n",
    "l1=[\"ram\",\"shyam\",\"sma\",4,8,2,3,\"raju\",6,4]\n",
    "df=pd.Series(l1)\n",
    "print(df)\n"
   ]
  },
  {
   "cell_type": "code",
   "execution_count": 27,
   "id": "9e446bc3-05c7-4b18-aa5f-cdbbc9256f8d",
   "metadata": {},
   "outputs": [
    {
     "name": "stdout",
     "output_type": "stream",
     "text": [
      "(3, 3)\n",
      "<bound method NDFrame.describe of     Name  Age  Gender\n",
      "0  alice   25  Female\n",
      "1    Bob   30    Male\n",
      "2  Carie   24  Female>\n"
     ]
    }
   ],
   "source": [
    "#Ans3\n",
    "import pandas as pd\n",
    "data = {\n",
    "    \"Name\":[\"alice\",\"Bob\",\"Carie\"],\n",
    "    \"Age\":[25,30,24],\n",
    "    \"Gender\":[\"Female\",\"Male\",\"Female\"]\n",
    "        }\n",
    "df = pd.DataFrame(data,index=None,columns=None)\n",
    "print(df.shape)\n",
    "print(df.describe)"
   ]
  },
  {
   "cell_type": "code",
   "execution_count": null,
   "id": "5d94fb9e-e7fc-4db6-8a9c-00aa03f69379",
   "metadata": {},
   "outputs": [],
   "source": []
  },
  {
   "cell_type": "code",
   "execution_count": null,
   "id": "f5913b53-6845-4500-bd6f-270f6597ebea",
   "metadata": {},
   "outputs": [],
   "source": [
    "#Ans4\n",
    "Pandas DataFrame is two-dimensional size-mutable, potentially heterogeneous tabular data structure with labeled axes (rows and columns). A Data frame is a two-dimensional data structure, i.e., data is aligned in a tabular fashion in rows and columns. Pandas DataFrame consists of three principal components, the data, rows, and columns.\n",
    "->Creating a dataframe:-\n",
    "import pandas as pd\n",
    " \n",
    "# intialise data of lists.\n",
    "data = {'Name':['Tom', 'nick', 'krish', 'jack'],\n",
    "        'Age':[20, 21, 19, 18]}\n",
    " \n",
    "# Create DataFrame\n",
    "df = pd.DataFrame(data)\n",
    " \n",
    "# Print the output.\n",
    "print(df)\n",
    "\n",
    "=>Series Vs DataFrame\n",
    "1.Series:-\n",
    "*One-dimensional\n",
    "*Homogenous – Series elements must be of the same data type.\n",
    "*Size-immutable – Once created, the size of a Series object cannot be changed.\t\n",
    "\n",
    "2.Dataframe\n",
    "*Two-dimensional\n",
    "*Heterogenous – DataFrame elements can have different data types.\n",
    "*Size-mutable – Elements can be dropped or added in an existing DataFrame.\n",
    "#Ex:-\n",
    "1.Creating a series:\n",
    "   #Creating a Series from dict\n",
    "data = {'Mon': 22, 'Tues': 23, 'Wed': 23, 'Thurs': 24, 'Fri': 23, 'Sat': 22, 'Sun': 21}\n",
    "series = pd.Series(data=data, name='series_from_dict')\n",
    "print(series)\n",
    "\n",
    "2.Creating a DataFrame:\n",
    "    #Creating a DataFrame from a dictionary of lists\n",
    "data = {\n",
    "    \"Class 1\": [22, 33, 38],\n",
    "    \"Class 2\": [45, 28, 36], \n",
    "    \"Class 3\": [32, 41, 47]\n",
    "}\n",
    "df = pd.DataFrame(data=data, index=['math avg', 'science avg', 'english avg'])\n",
    " \n",
    "df"
   ]
  },
  {
   "cell_type": "code",
   "execution_count": null,
   "id": "e83107fa-3e03-4277-8d85-b070619751f5",
   "metadata": {},
   "outputs": [],
   "source": [
    "#Ans5\n",
    "These are some key features of Pandas :-\n",
    "\n",
    "1.Perform Group by operation seamlessly\n",
    "2.Datasets are mutable using pandas which means we can add new rows and columns to them.\n",
    "3.Easy to handle missing data\n",
    "4.Merge and join datasets\n",
    "5.Indexing and subsetting data\n",
    "\n",
    "*Merging DataFrames using merge(), arguments passed are the dataframes to be merged along with the column name:\n",
    "    df1 = pd.read_csv(\"country_code.csv\")\n",
    "    merged_col = pd.merge(df, df1, on='Name')\n",
    "    merged_col\n",
    "An additional argument ‘on’ is the name of the common column, here ‘Name’ is the common column given to the merge() function. df is the first dataframe & df1 is the second dataframe that is to be merged.\n",
    "Renaming the columns of dataframe using rename(), arguments passed are the columns to be renamed & inplace."
   ]
  },
  {
   "cell_type": "code",
   "execution_count": null,
   "id": "0398505f-29b6-4193-97b8-31e5faea7137",
   "metadata": {},
   "outputs": [],
   "source": [
    "#Ans6\n",
    "1.Mutable\n",
    "    1.DataFrame\n",
    "    2.Panel\n",
    "2.Immutable\n",
    "    1.Series"
   ]
  },
  {
   "cell_type": "code",
   "execution_count": null,
   "id": "7b89db12-87b7-4fad-87c7-57a94a3e7cdd",
   "metadata": {},
   "outputs": [],
   "source": [
    "#Ans7\n",
    "One can create a DataFrame from multiple Series objects by adding each series as a columns.\n",
    "\n",
    "By using concat() method one can merge multiple series together into DataFrame. This takes several params, for our scenario we use list that takes series to combine and axis=1 to specify merge series as columns instead of rows. Note that using axis=0 appends series to rows instead of columns.\n",
    "\n",
    "Ex:-\n",
    "# Create Series by assigning names\n",
    "courses = pd.Series([\"Spark\",\"PySpark\",\"Hadoop\"], name='courses')\n",
    "fees = pd.Series([22000,25000,23000], name='fees')\n",
    "discount  = pd.Series([1000,2300,1000],name='discount')\n",
    "\n",
    "df=pd.concat([courses,fees,discount],axis=1)\n",
    "print(df)"
   ]
  }
 ],
 "metadata": {
  "kernelspec": {
   "display_name": "Python 3 (ipykernel)",
   "language": "python",
   "name": "python3"
  },
  "language_info": {
   "codemirror_mode": {
    "name": "ipython",
    "version": 3
   },
   "file_extension": ".py",
   "mimetype": "text/x-python",
   "name": "python",
   "nbconvert_exporter": "python",
   "pygments_lexer": "ipython3",
   "version": "3.10.8"
  }
 },
 "nbformat": 4,
 "nbformat_minor": 5
}
